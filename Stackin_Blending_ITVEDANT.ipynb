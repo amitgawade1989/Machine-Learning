{
  "nbformat": 4,
  "nbformat_minor": 0,
  "metadata": {
    "colab": {
      "name": "Stackin_Blending_ITVEDANT.ipynb",
      "provenance": []
    },
    "kernelspec": {
      "name": "python3",
      "display_name": "Python 3"
    },
    "language_info": {
      "name": "python"
    }
  },
  "cells": [
    {
      "cell_type": "code",
      "metadata": {
        "id": "SPpZw-TSMhQ7"
      },
      "source": [
        "from sklearn.ensemble import RandomForestClassifier\n",
        "from sklearn.svm import LinearSVC\n",
        "from sklearn.linear_model import LogisticRegression \n",
        "from sklearn.naive_bayes import GaussianNB\n",
        "from sklearn.neighbors import KNeighborsClassifier \n",
        "from sklearn import model_selection\n",
        "from mlxtend.classifier import  StackingClassifier "
      ],
      "execution_count": null,
      "outputs": []
    },
    {
      "cell_type": "code",
      "metadata": {
        "id": "BWOUBwcyNszj"
      },
      "source": [
        "from sklearn import datasets\n",
        "iris = datasets.load_iris()\n",
        "X_train,y_train = iris.data[:,1:3],iris.target"
      ],
      "execution_count": null,
      "outputs": []
    },
    {
      "cell_type": "code",
      "metadata": {
        "id": "3y8d7RDTNs2f"
      },
      "source": [
        "myclf1 = KNeighborsClassifier(n_neighbors=1)\n",
        "myclf2 = RandomForestClassifier(random_state=1)\n",
        "myclf3 = GaussianNB()"
      ],
      "execution_count": null,
      "outputs": []
    },
    {
      "cell_type": "code",
      "metadata": {
        "id": "xQcqVxvONs5P"
      },
      "source": [
        "#meta model \n",
        "mylr = LogisticRegression() "
      ],
      "execution_count": null,
      "outputs": []
    },
    {
      "cell_type": "code",
      "metadata": {
        "id": "KVmTqy4RNs8D"
      },
      "source": [
        "stackingclf = StackingClassifier(classifiers=[myclf1,myclf2,myclf3],meta_classifier=mylr)"
      ],
      "execution_count": null,
      "outputs": []
    },
    {
      "cell_type": "code",
      "metadata": {
        "colab": {
          "base_uri": "https://localhost:8080/"
        },
        "id": "ZsS7DScTNs-5",
        "outputId": "576b6128-0f3b-400e-a1f7-8d9be2fcf289"
      },
      "source": [
        "for model , label in zip([myclf1,myclf2,myclf3,stackingclf],['knn','rf','nb','stackingclf']):\n",
        "  scores  = model_selection.cross_val_score(model,X_train,y_train,cv=3,scoring='accuracy')\n",
        "  print(\"acc:{}:{} and final acc:{}\".format(label,scores,scores.mean()))"
      ],
      "execution_count": null,
      "outputs": [
        {
          "output_type": "stream",
          "text": [
            "acc:knn:[0.92 0.9  0.9 ] and final acc:0.9066666666666667\n",
            "acc:rf:[0.96 0.94 0.96] and final acc:0.9533333333333333\n",
            "acc:nb:[0.9  0.9  0.94] and final acc:0.9133333333333334\n",
            "acc:stackingclf:[0.96 0.92 0.96] and final acc:0.9466666666666667\n"
          ],
          "name": "stdout"
        }
      ]
    },
    {
      "cell_type": "code",
      "metadata": {
        "id": "DsJvyEbXNtBy"
      },
      "source": [
        ""
      ],
      "execution_count": null,
      "outputs": []
    },
    {
      "cell_type": "code",
      "metadata": {
        "id": "AVOnYJsBNtEr"
      },
      "source": [
        ""
      ],
      "execution_count": null,
      "outputs": []
    },
    {
      "cell_type": "code",
      "metadata": {
        "id": "HvhQqGcCNtHz"
      },
      "source": [
        ""
      ],
      "execution_count": null,
      "outputs": []
    },
    {
      "cell_type": "code",
      "metadata": {
        "id": "EQdnkFbYNtKm"
      },
      "source": [
        ""
      ],
      "execution_count": null,
      "outputs": []
    },
    {
      "cell_type": "code",
      "metadata": {
        "id": "WwYdGFP2NtNh"
      },
      "source": [
        ""
      ],
      "execution_count": null,
      "outputs": []
    },
    {
      "cell_type": "code",
      "metadata": {
        "id": "Gyj3TBczNtQ_"
      },
      "source": [
        ""
      ],
      "execution_count": null,
      "outputs": []
    }
  ]
}