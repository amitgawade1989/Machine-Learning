{
  "nbformat": 4,
  "nbformat_minor": 0,
  "metadata": {
    "colab": {
      "name": "Cross Validation.ipynb",
      "provenance": [],
      "collapsed_sections": []
    },
    "kernelspec": {
      "name": "python3",
      "display_name": "Python 3"
    },
    "language_info": {
      "name": "python"
    }
  },
  "cells": [
    {
      "cell_type": "code",
      "metadata": {
        "id": "NgKRohfx3UYX"
      },
      "source": [
        "import numpy as np\n",
        "from sklearn.model_selection import train_test_split\n",
        "from sklearn import datasets\n",
        "from sklearn import svm "
      ],
      "execution_count": 2,
      "outputs": []
    },
    {
      "cell_type": "code",
      "metadata": {
        "colab": {
          "base_uri": "https://localhost:8080/"
        },
        "id": "BBc2LCW0-c2O",
        "outputId": "efc1677b-865e-4c12-a540-02555337377d"
      },
      "source": [
        "X,y = datasets.load_iris(return_X_y=True)\n",
        "print(X.shape,y.shape)"
      ],
      "execution_count": 4,
      "outputs": [
        {
          "output_type": "stream",
          "text": [
            "(150, 4) (150,)\n"
          ],
          "name": "stdout"
        }
      ]
    },
    {
      "cell_type": "code",
      "metadata": {
        "id": "62CKLHE1_Ao1"
      },
      "source": [
        "print(y)"
      ],
      "execution_count": null,
      "outputs": []
    },
    {
      "cell_type": "code",
      "metadata": {
        "id": "fOXOVPPY_G1Y"
      },
      "source": [
        "X"
      ],
      "execution_count": null,
      "outputs": []
    },
    {
      "cell_type": "code",
      "metadata": {
        "id": "UVRt7RVw93BU"
      },
      "source": [
        "from sklearn.model_selection import cross_val_score"
      ],
      "execution_count": 7,
      "outputs": []
    },
    {
      "cell_type": "code",
      "metadata": {
        "id": "dZr0y1jT_ef8"
      },
      "source": [
        "clf = svm.SVC(kernel='linear',C=1,random_state=0)  # lr = LinearRegression()"
      ],
      "execution_count": 8,
      "outputs": []
    },
    {
      "cell_type": "code",
      "metadata": {
        "id": "SCAyYA27_5cw"
      },
      "source": [
        "score = cross_val_score(clf,X,y,cv=5)"
      ],
      "execution_count": 9,
      "outputs": []
    },
    {
      "cell_type": "code",
      "metadata": {
        "colab": {
          "base_uri": "https://localhost:8080/"
        },
        "id": "zrTIIQpBANw8",
        "outputId": "47fa94a5-9662-4ce0-87b5-242d25ccf67c"
      },
      "source": [
        "score"
      ],
      "execution_count": 10,
      "outputs": [
        {
          "output_type": "execute_result",
          "data": {
            "text/plain": [
              "array([0.96666667, 1.        , 0.96666667, 0.96666667, 1.        ])"
            ]
          },
          "metadata": {
            "tags": []
          },
          "execution_count": 10
        }
      ]
    },
    {
      "cell_type": "code",
      "metadata": {
        "colab": {
          "base_uri": "https://localhost:8080/"
        },
        "id": "qd_ZD_TDAZcv",
        "outputId": "3db669f4-4274-4b17-a75e-fb1bb4e14eaf"
      },
      "source": [
        "score.mean()"
      ],
      "execution_count": 12,
      "outputs": [
        {
          "output_type": "execute_result",
          "data": {
            "text/plain": [
              "0.9800000000000001"
            ]
          },
          "metadata": {
            "tags": []
          },
          "execution_count": 12
        }
      ]
    },
    {
      "cell_type": "code",
      "metadata": {
        "colab": {
          "base_uri": "https://localhost:8080/"
        },
        "id": "CCV6fL8oAhII",
        "outputId": "614edb84-c564-49b4-e6da-2b6633baf22a"
      },
      "source": [
        "score.std()"
      ],
      "execution_count": 13,
      "outputs": [
        {
          "output_type": "execute_result",
          "data": {
            "text/plain": [
              "0.016329931618554516"
            ]
          },
          "metadata": {
            "tags": []
          },
          "execution_count": 13
        }
      ]
    },
    {
      "cell_type": "code",
      "metadata": {
        "colab": {
          "base_uri": "https://localhost:8080/"
        },
        "id": "woXVkESwBPwo",
        "outputId": "ca94a706-9fbd-4ee2-c9fa-b02920932650"
      },
      "source": [
        "#other method for fold\n",
        "from sklearn.model_selection import ShuffleSplit\n",
        "n_splits = X.shape[0] #no of rows \n",
        "cv = ShuffleSplit(n_splits=5 ,test_size = 0.2,random_state = 0)\n",
        "(cross_val_score(clf,X,y,cv=cv)).mean()"
      ],
      "execution_count": 19,
      "outputs": [
        {
          "output_type": "execute_result",
          "data": {
            "text/plain": [
              "0.9933333333333334"
            ]
          },
          "metadata": {
            "tags": []
          },
          "execution_count": 19
        }
      ]
    },
    {
      "cell_type": "code",
      "metadata": {
        "id": "qOd1QBipCVee"
      },
      "source": [
        "#leave one out"
      ],
      "execution_count": null,
      "outputs": []
    },
    {
      "cell_type": "code",
      "metadata": {
        "id": "B4CQiKsZCVnP"
      },
      "source": [
        "from sklearn.model_selection import LeaveOneOut\n",
        "x = [10,20,30,40,50,60,70,80,90,100]\n",
        "l = LeaveOneOut()"
      ],
      "execution_count": 23,
      "outputs": []
    },
    {
      "cell_type": "code",
      "metadata": {
        "colab": {
          "base_uri": "https://localhost:8080/"
        },
        "id": "hy9khFFSCVrD",
        "outputId": "8c3a378d-6a3d-4450-c154-0a977e788c6d"
      },
      "source": [
        "for train,test in l.split(x):\n",
        "  print(train,test)"
      ],
      "execution_count": 24,
      "outputs": [
        {
          "output_type": "stream",
          "text": [
            "[1 2 3 4 5 6 7 8 9] [0]\n",
            "[0 2 3 4 5 6 7 8 9] [1]\n",
            "[0 1 3 4 5 6 7 8 9] [2]\n",
            "[0 1 2 4 5 6 7 8 9] [3]\n",
            "[0 1 2 3 5 6 7 8 9] [4]\n",
            "[0 1 2 3 4 6 7 8 9] [5]\n",
            "[0 1 2 3 4 5 7 8 9] [6]\n",
            "[0 1 2 3 4 5 6 8 9] [7]\n",
            "[0 1 2 3 4 5 6 7 9] [8]\n",
            "[0 1 2 3 4 5 6 7 8] [9]\n"
          ],
          "name": "stdout"
        }
      ]
    },
    {
      "cell_type": "code",
      "metadata": {
        "colab": {
          "base_uri": "https://localhost:8080/"
        },
        "id": "WLH-HL1oCVuX",
        "outputId": "4044e15f-55dc-4bd8-8766-6aa462d62439"
      },
      "source": [
        "from sklearn.model_selection import LeavePOut\n",
        "l1 = LeavePOut(p=2)\n",
        "for train,test in l1.split(x):\n",
        "  print(train,test)"
      ],
      "execution_count": 29,
      "outputs": [
        {
          "output_type": "stream",
          "text": [
            "[2 3 4 5 6 7 8 9] [0 1]\n",
            "[1 3 4 5 6 7 8 9] [0 2]\n",
            "[1 2 4 5 6 7 8 9] [0 3]\n",
            "[1 2 3 5 6 7 8 9] [0 4]\n",
            "[1 2 3 4 6 7 8 9] [0 5]\n",
            "[1 2 3 4 5 7 8 9] [0 6]\n",
            "[1 2 3 4 5 6 8 9] [0 7]\n",
            "[1 2 3 4 5 6 7 9] [0 8]\n",
            "[1 2 3 4 5 6 7 8] [0 9]\n",
            "[0 3 4 5 6 7 8 9] [1 2]\n",
            "[0 2 4 5 6 7 8 9] [1 3]\n",
            "[0 2 3 5 6 7 8 9] [1 4]\n",
            "[0 2 3 4 6 7 8 9] [1 5]\n",
            "[0 2 3 4 5 7 8 9] [1 6]\n",
            "[0 2 3 4 5 6 8 9] [1 7]\n",
            "[0 2 3 4 5 6 7 9] [1 8]\n",
            "[0 2 3 4 5 6 7 8] [1 9]\n",
            "[0 1 4 5 6 7 8 9] [2 3]\n",
            "[0 1 3 5 6 7 8 9] [2 4]\n",
            "[0 1 3 4 6 7 8 9] [2 5]\n",
            "[0 1 3 4 5 7 8 9] [2 6]\n",
            "[0 1 3 4 5 6 8 9] [2 7]\n",
            "[0 1 3 4 5 6 7 9] [2 8]\n",
            "[0 1 3 4 5 6 7 8] [2 9]\n",
            "[0 1 2 5 6 7 8 9] [3 4]\n",
            "[0 1 2 4 6 7 8 9] [3 5]\n",
            "[0 1 2 4 5 7 8 9] [3 6]\n",
            "[0 1 2 4 5 6 8 9] [3 7]\n",
            "[0 1 2 4 5 6 7 9] [3 8]\n",
            "[0 1 2 4 5 6 7 8] [3 9]\n",
            "[0 1 2 3 6 7 8 9] [4 5]\n",
            "[0 1 2 3 5 7 8 9] [4 6]\n",
            "[0 1 2 3 5 6 8 9] [4 7]\n",
            "[0 1 2 3 5 6 7 9] [4 8]\n",
            "[0 1 2 3 5 6 7 8] [4 9]\n",
            "[0 1 2 3 4 7 8 9] [5 6]\n",
            "[0 1 2 3 4 6 8 9] [5 7]\n",
            "[0 1 2 3 4 6 7 9] [5 8]\n",
            "[0 1 2 3 4 6 7 8] [5 9]\n",
            "[0 1 2 3 4 5 8 9] [6 7]\n",
            "[0 1 2 3 4 5 7 9] [6 8]\n",
            "[0 1 2 3 4 5 7 8] [6 9]\n",
            "[0 1 2 3 4 5 6 9] [7 8]\n",
            "[0 1 2 3 4 5 6 8] [7 9]\n",
            "[0 1 2 3 4 5 6 7] [8 9]\n"
          ],
          "name": "stdout"
        }
      ]
    },
    {
      "cell_type": "code",
      "metadata": {
        "colab": {
          "base_uri": "https://localhost:8080/"
        },
        "id": "cLvkSImhCVyN",
        "outputId": "d3352c53-08d7-4870-d703-1b5cf52539ba"
      },
      "source": [
        "#Stratified cross validation\n",
        "x  = np.array([[1,2],[3,4],[5,6],[7,8],[9,10],[11,12]])\n",
        "y = np.array([0,0,1,0,1,1])\n",
        "print(x.shape)\n",
        "print(y.shape)"
      ],
      "execution_count": 35,
      "outputs": [
        {
          "output_type": "stream",
          "text": [
            "(6, 2)\n",
            "(6,)\n"
          ],
          "name": "stdout"
        }
      ]
    },
    {
      "cell_type": "code",
      "metadata": {
        "id": "-t7UatxCJc_s"
      },
      "source": [
        "from sklearn.model_selection import StratifiedKFold\n",
        "skf = StratifiedKFold(n_splits=3,random_state = None,shuffle = False)"
      ],
      "execution_count": 33,
      "outputs": []
    },
    {
      "cell_type": "code",
      "metadata": {
        "id": "LQZWG6RaJdC9"
      },
      "source": [
        "for train_index,test_index in skf.split(x,y):\n",
        "  x_train,y_train = x[train_index],y[train_index]\n",
        "  x_test,y_test = x[test_index],y[test_index]"
      ],
      "execution_count": 37,
      "outputs": []
    },
    {
      "cell_type": "code",
      "metadata": {
        "colab": {
          "base_uri": "https://localhost:8080/"
        },
        "id": "xKda0Lm0JdF8",
        "outputId": "d7ab4f61-ec49-4e4b-8b75-99f21dfce08d"
      },
      "source": [
        "x_train"
      ],
      "execution_count": 38,
      "outputs": [
        {
          "output_type": "execute_result",
          "data": {
            "text/plain": [
              "array([[ 1,  2],\n",
              "       [ 3,  4],\n",
              "       [ 5,  6],\n",
              "       [ 9, 10]])"
            ]
          },
          "metadata": {
            "tags": []
          },
          "execution_count": 38
        }
      ]
    },
    {
      "cell_type": "code",
      "metadata": {
        "colab": {
          "base_uri": "https://localhost:8080/"
        },
        "id": "SEpGrfeZJdJT",
        "outputId": "4916d922-a04e-4fac-e31a-2a71365903f6"
      },
      "source": [
        "y_train"
      ],
      "execution_count": 39,
      "outputs": [
        {
          "output_type": "execute_result",
          "data": {
            "text/plain": [
              "array([0, 0, 1, 1])"
            ]
          },
          "metadata": {
            "tags": []
          },
          "execution_count": 39
        }
      ]
    },
    {
      "cell_type": "code",
      "metadata": {
        "colab": {
          "base_uri": "https://localhost:8080/"
        },
        "id": "VMzUczDNJdMK",
        "outputId": "ac12d445-c340-43bc-8328-ace75eca002a"
      },
      "source": [
        "x_test"
      ],
      "execution_count": 40,
      "outputs": [
        {
          "output_type": "execute_result",
          "data": {
            "text/plain": [
              "array([[ 7,  8],\n",
              "       [11, 12]])"
            ]
          },
          "metadata": {
            "tags": []
          },
          "execution_count": 40
        }
      ]
    },
    {
      "cell_type": "code",
      "metadata": {
        "colab": {
          "base_uri": "https://localhost:8080/"
        },
        "id": "4WcDfNwiJdPX",
        "outputId": "86e102ac-35f7-48c4-f53d-2e3851656b0c"
      },
      "source": [
        "y_test"
      ],
      "execution_count": 41,
      "outputs": [
        {
          "output_type": "execute_result",
          "data": {
            "text/plain": [
              "array([0, 1])"
            ]
          },
          "metadata": {
            "tags": []
          },
          "execution_count": 41
        }
      ]
    },
    {
      "cell_type": "code",
      "metadata": {
        "id": "54I8IzFUJdSw"
      },
      "source": [
        ""
      ],
      "execution_count": null,
      "outputs": []
    },
    {
      "cell_type": "code",
      "metadata": {
        "id": "Ip5ngMf6JdWP"
      },
      "source": [
        ""
      ],
      "execution_count": null,
      "outputs": []
    }
  ]
}