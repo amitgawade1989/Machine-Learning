{
  "nbformat": 4,
  "nbformat_minor": 0,
  "metadata": {
    "colab": {
      "name": "Feature Selection_ITVEDANT.ipynb",
      "provenance": []
    },
    "kernelspec": {
      "name": "python3",
      "display_name": "Python 3"
    },
    "language_info": {
      "name": "python"
    }
  },
  "cells": [
    {
      "cell_type": "code",
      "metadata": {
        "id": "lzH5fGGdOonl"
      },
      "source": [
        ""
      ],
      "execution_count": null,
      "outputs": []
    },
    {
      "cell_type": "code",
      "metadata": {
        "colab": {
          "base_uri": "https://localhost:8080/"
        },
        "id": "MZ4rmEhNOreO",
        "outputId": "88b9dc9b-8725-4af2-efd7-94909efae076"
      },
      "source": [
        ""
      ],
      "execution_count": null,
      "outputs": [
        {
          "output_type": "stream",
          "text": [
            "Mounted at /content/drive\n"
          ],
          "name": "stdout"
        }
      ]
    },
    {
      "cell_type": "code",
      "metadata": {
        "id": "3ljmT_wKOyn2"
      },
      "source": [
        "import numpy as np\n",
        "import pandas as pd\n",
        "import matplotlib.pyplot as plt\n",
        "import seaborn as sns\n",
        "from sklearn.model_selection import train_test_split\n",
        "from sklearn.feature_selection import mutual_info_regression, mutual_info_classif"
      ],
      "execution_count": null,
      "outputs": []
    },
    {
      "cell_type": "code",
      "metadata": {
        "colab": {
          "base_uri": "https://localhost:8080/",
          "height": 110
        },
        "id": "SXo_4M_3Oy3m",
        "outputId": "89c8e3fa-ed46-4ecf-f432-3e4c09bf12cc"
      },
      "source": [
        "dataset= pd.read_csv('/content/drive/MyDrive/Datasets/EDA/auto-mpg.csv')\n",
        "dataset.head(2)"
      ],
      "execution_count": null,
      "outputs": [
        {
          "output_type": "execute_result",
          "data": {
            "text/html": [
              "<div>\n",
              "<style scoped>\n",
              "    .dataframe tbody tr th:only-of-type {\n",
              "        vertical-align: middle;\n",
              "    }\n",
              "\n",
              "    .dataframe tbody tr th {\n",
              "        vertical-align: top;\n",
              "    }\n",
              "\n",
              "    .dataframe thead th {\n",
              "        text-align: right;\n",
              "    }\n",
              "</style>\n",
              "<table border=\"1\" class=\"dataframe\">\n",
              "  <thead>\n",
              "    <tr style=\"text-align: right;\">\n",
              "      <th></th>\n",
              "      <th>mpg</th>\n",
              "      <th>cylinders</th>\n",
              "      <th>displacement</th>\n",
              "      <th>horsepower</th>\n",
              "      <th>weight</th>\n",
              "      <th>acceleration</th>\n",
              "      <th>model year</th>\n",
              "      <th>origin</th>\n",
              "      <th>car name</th>\n",
              "    </tr>\n",
              "  </thead>\n",
              "  <tbody>\n",
              "    <tr>\n",
              "      <th>0</th>\n",
              "      <td>18.0</td>\n",
              "      <td>8</td>\n",
              "      <td>307.0</td>\n",
              "      <td>130</td>\n",
              "      <td>3504</td>\n",
              "      <td>12.0</td>\n",
              "      <td>70</td>\n",
              "      <td>1</td>\n",
              "      <td>chevrolet chevelle malibu</td>\n",
              "    </tr>\n",
              "    <tr>\n",
              "      <th>1</th>\n",
              "      <td>15.0</td>\n",
              "      <td>8</td>\n",
              "      <td>350.0</td>\n",
              "      <td>165</td>\n",
              "      <td>3693</td>\n",
              "      <td>11.5</td>\n",
              "      <td>70</td>\n",
              "      <td>1</td>\n",
              "      <td>buick skylark 320</td>\n",
              "    </tr>\n",
              "  </tbody>\n",
              "</table>\n",
              "</div>"
            ],
            "text/plain": [
              "    mpg  cylinders  displacement  ... model year  origin                   car name\n",
              "0  18.0          8         307.0  ...         70       1  chevrolet chevelle malibu\n",
              "1  15.0          8         350.0  ...         70       1          buick skylark 320\n",
              "\n",
              "[2 rows x 9 columns]"
            ]
          },
          "metadata": {
            "tags": []
          },
          "execution_count": 3
        }
      ]
    },
    {
      "cell_type": "code",
      "metadata": {
        "colab": {
          "base_uri": "https://localhost:8080/"
        },
        "id": "tSRG2d9wPGgs",
        "outputId": "90a7c382-6975-49a9-8411-ecdfab39b086"
      },
      "source": [
        "dataset.info()"
      ],
      "execution_count": null,
      "outputs": [
        {
          "output_type": "stream",
          "text": [
            "<class 'pandas.core.frame.DataFrame'>\n",
            "RangeIndex: 398 entries, 0 to 397\n",
            "Data columns (total 9 columns):\n",
            " #   Column        Non-Null Count  Dtype  \n",
            "---  ------        --------------  -----  \n",
            " 0   mpg           398 non-null    float64\n",
            " 1   cylinders     398 non-null    int64  \n",
            " 2   displacement  398 non-null    float64\n",
            " 3   horsepower    398 non-null    object \n",
            " 4   weight        398 non-null    int64  \n",
            " 5   acceleration  398 non-null    float64\n",
            " 6   model year    398 non-null    int64  \n",
            " 7   origin        398 non-null    int64  \n",
            " 8   car name      398 non-null    object \n",
            "dtypes: float64(3), int64(4), object(2)\n",
            "memory usage: 28.1+ KB\n"
          ],
          "name": "stdout"
        }
      ]
    },
    {
      "cell_type": "code",
      "metadata": {
        "colab": {
          "base_uri": "https://localhost:8080/",
          "height": 171
        },
        "id": "Dz5e6n1ZPM-0",
        "outputId": "7b7a505b-10bc-4e83-c09c-d2b6a083aa88"
      },
      "source": [
        "dataset.describe(include='O')"
      ],
      "execution_count": null,
      "outputs": [
        {
          "output_type": "execute_result",
          "data": {
            "text/html": [
              "<div>\n",
              "<style scoped>\n",
              "    .dataframe tbody tr th:only-of-type {\n",
              "        vertical-align: middle;\n",
              "    }\n",
              "\n",
              "    .dataframe tbody tr th {\n",
              "        vertical-align: top;\n",
              "    }\n",
              "\n",
              "    .dataframe thead th {\n",
              "        text-align: right;\n",
              "    }\n",
              "</style>\n",
              "<table border=\"1\" class=\"dataframe\">\n",
              "  <thead>\n",
              "    <tr style=\"text-align: right;\">\n",
              "      <th></th>\n",
              "      <th>horsepower</th>\n",
              "      <th>car name</th>\n",
              "    </tr>\n",
              "  </thead>\n",
              "  <tbody>\n",
              "    <tr>\n",
              "      <th>count</th>\n",
              "      <td>398</td>\n",
              "      <td>398</td>\n",
              "    </tr>\n",
              "    <tr>\n",
              "      <th>unique</th>\n",
              "      <td>94</td>\n",
              "      <td>305</td>\n",
              "    </tr>\n",
              "    <tr>\n",
              "      <th>top</th>\n",
              "      <td>150</td>\n",
              "      <td>ford pinto</td>\n",
              "    </tr>\n",
              "    <tr>\n",
              "      <th>freq</th>\n",
              "      <td>22</td>\n",
              "      <td>6</td>\n",
              "    </tr>\n",
              "  </tbody>\n",
              "</table>\n",
              "</div>"
            ],
            "text/plain": [
              "       horsepower    car name\n",
              "count         398         398\n",
              "unique         94         305\n",
              "top           150  ford pinto\n",
              "freq           22           6"
            ]
          },
          "metadata": {
            "tags": []
          },
          "execution_count": 7
        }
      ]
    },
    {
      "cell_type": "code",
      "metadata": {
        "id": "jjiIc7MGPd_N"
      },
      "source": [
        "#Updating the horsepower feature to int and filling all nulls with 0\n",
        "dataset['horsepower'] = pd.to_numeric(dataset['horsepower'], errors='coerce').fillna(0).astype(int)\n"
      ],
      "execution_count": null,
      "outputs": []
    },
    {
      "cell_type": "code",
      "metadata": {
        "colab": {
          "base_uri": "https://localhost:8080/",
          "height": 171
        },
        "id": "TR5gjQO8k05I",
        "outputId": "208ff1d0-6363-468b-8a31-c4f9a6242c66"
      },
      "source": [
        "dataset.describe(include='O')"
      ],
      "execution_count": null,
      "outputs": [
        {
          "output_type": "execute_result",
          "data": {
            "text/html": [
              "<div>\n",
              "<style scoped>\n",
              "    .dataframe tbody tr th:only-of-type {\n",
              "        vertical-align: middle;\n",
              "    }\n",
              "\n",
              "    .dataframe tbody tr th {\n",
              "        vertical-align: top;\n",
              "    }\n",
              "\n",
              "    .dataframe thead th {\n",
              "        text-align: right;\n",
              "    }\n",
              "</style>\n",
              "<table border=\"1\" class=\"dataframe\">\n",
              "  <thead>\n",
              "    <tr style=\"text-align: right;\">\n",
              "      <th></th>\n",
              "      <th>car name</th>\n",
              "    </tr>\n",
              "  </thead>\n",
              "  <tbody>\n",
              "    <tr>\n",
              "      <th>count</th>\n",
              "      <td>398</td>\n",
              "    </tr>\n",
              "    <tr>\n",
              "      <th>unique</th>\n",
              "      <td>305</td>\n",
              "    </tr>\n",
              "    <tr>\n",
              "      <th>top</th>\n",
              "      <td>ford pinto</td>\n",
              "    </tr>\n",
              "    <tr>\n",
              "      <th>freq</th>\n",
              "      <td>6</td>\n",
              "    </tr>\n",
              "  </tbody>\n",
              "</table>\n",
              "</div>"
            ],
            "text/plain": [
              "          car name\n",
              "count          398\n",
              "unique         305\n",
              "top     ford pinto\n",
              "freq             6"
            ]
          },
          "metadata": {
            "tags": []
          },
          "execution_count": 14
        }
      ]
    },
    {
      "cell_type": "code",
      "metadata": {
        "id": "7POmjIOEk6yo"
      },
      "source": [
        "#Creating a labelEncoder for Car name to encode Car names with a value between 0 and n_classes-1. In our case n_classes for Car name is 305\n",
        "from sklearn.preprocessing import LabelEncoder\n",
        "labelencoder = LabelEncoder()\n",
        "X_en= dataset.iloc[:, 8].values\n",
        "X_en = labelencoder.fit_transform(X_en)"
      ],
      "execution_count": null,
      "outputs": []
    },
    {
      "cell_type": "code",
      "metadata": {
        "id": "2p2U1_nRlV2R"
      },
      "source": [
        ""
      ],
      "execution_count": null,
      "outputs": []
    },
    {
      "cell_type": "code",
      "metadata": {
        "colab": {
          "base_uri": "https://localhost:8080/"
        },
        "id": "yp3mNPiMlFHM",
        "outputId": "044c049b-5e11-438d-bb9f-b09a479e90ee"
      },
      "source": [
        "X_en"
      ],
      "execution_count": null,
      "outputs": [
        {
          "output_type": "execute_result",
          "data": {
            "text/plain": [
              "array([ 49,  36, 231,  14, 161, 141,  54, 223, 241,   1, 101, 215,  57,\n",
              "        30, 274, 220,   8, 150,  95, 282, 211,  16, 258,  22,   7, 133,\n",
              "        68, 112, 163,  95,  65, 271, 156,   7, 232,  49, 162,  10,  54,\n",
              "       242, 141, 223, 116, 129, 250,   9,  64, 243, 151, 187, 208, 210,\n",
              "       123, 267,  76, 286, 218, 272, 105, 293,  63, 158,  54, 241, 223,\n",
              "       141,   2, 192,  31, 203,  75, 183,  11,  48, 143, 233, 295, 283,\n",
              "       212, 253, 157,  85, 279, 104, 268,  25,  10,  55, 142, 109, 193,\n",
              "        44, 148, 222,  74,  29,   0, 235,  62,   8, 150, 220, 292,  54,\n",
              "       128, 219, 207,   7, 263,  63,  87, 174, 156, 188, 121,  59, 244,\n",
              "       124, 209,  17, 294, 113, 260, 276, 204, 220, 150,   8,  61,  92,\n",
              "       156, 267,  63,  50,  10, 234, 142,  27, 110, 143,  11,  21, 284,\n",
              "       209, 271,  88, 103, 124, 122, 167, 261, 127, 236,  61, 194, 150,\n",
              "       241,  42, 224, 148,  24,  41,  10, 221,  34,  60, 154, 266, 156,\n",
              "         7, 240, 271, 284,  88, 156, 287,  12,  17, 211, 296, 260, 171,\n",
              "       125, 208,  40, 103, 254,  50, 108,  10, 142, 235,  61, 150,   8,\n",
              "        51,  66, 302, 167, 100, 145, 252,  13, 287,  91, 266, 156, 297,\n",
              "       239, 211, 276, 186,  39,  67, 132, 111, 165,  32, 256, 216,  94,\n",
              "        44, 202, 117, 189,  53,  35, 238, 144, 245,  58,  70, 160, 288,\n",
              "       251, 269, 155,  51, 107, 262, 284,  89,  23, 181, 289, 139, 180,\n",
              "        93, 171, 201, 114, 195, 249,  55, 135, 136, 237,   3,  28, 196,\n",
              "        98,   4,  58,  33, 140, 115,  51, 271,  84, 118, 265, 230, 206,\n",
              "        77,  19, 298, 259, 214, 291, 166, 247, 197, 137,   6,  99,  44,\n",
              "       149, 190, 120,  30, 129,  56,  73, 304, 173, 106,  15, 184,  38,\n",
              "       211, 201, 225, 228,  79, 126,  37,  52, 205, 248, 302, 270,  51,\n",
              "        82,  52, 134,   3,  98,  18, 273, 175,  86, 266, 176, 103,  79,\n",
              "       303, 300,  20, 185, 170, 257, 262, 281,  81, 182, 280, 152, 164,\n",
              "       229,  35,  97,  52, 229, 277, 217, 169, 261,  80, 278, 177, 226,\n",
              "       131, 130, 285, 255, 172, 266,  78, 175, 213, 299, 275,  90,  24,\n",
              "       200, 146,  72,  45,  47,  46, 246,  96, 248, 138,   5, 290, 179,\n",
              "       178, 227, 191, 198, 164, 266, 167, 168,  83,  26, 199,  71, 147,\n",
              "       264, 102,  43, 153, 301, 119, 159,  69])"
            ]
          },
          "metadata": {
            "tags": []
          },
          "execution_count": 16
        }
      ]
    },
    {
      "cell_type": "code",
      "metadata": {
        "id": "Y-XArNVplXVE"
      },
      "source": [
        "#Creating the input features X and target variable y\n",
        "X= dataset.iloc[:,1:7]\n",
        "X['Car'] = X_en\n",
        "y= dataset.iloc[:,0].values"
      ],
      "execution_count": null,
      "outputs": []
    },
    {
      "cell_type": "code",
      "metadata": {
        "colab": {
          "base_uri": "https://localhost:8080/",
          "height": 416
        },
        "id": "0NzdCf80lXX3",
        "outputId": "768aabb2-bb90-49d0-fb65-6dc33c1cf1ab"
      },
      "source": [
        "X"
      ],
      "execution_count": null,
      "outputs": [
        {
          "output_type": "execute_result",
          "data": {
            "text/html": [
              "<div>\n",
              "<style scoped>\n",
              "    .dataframe tbody tr th:only-of-type {\n",
              "        vertical-align: middle;\n",
              "    }\n",
              "\n",
              "    .dataframe tbody tr th {\n",
              "        vertical-align: top;\n",
              "    }\n",
              "\n",
              "    .dataframe thead th {\n",
              "        text-align: right;\n",
              "    }\n",
              "</style>\n",
              "<table border=\"1\" class=\"dataframe\">\n",
              "  <thead>\n",
              "    <tr style=\"text-align: right;\">\n",
              "      <th></th>\n",
              "      <th>cylinders</th>\n",
              "      <th>displacement</th>\n",
              "      <th>horsepower</th>\n",
              "      <th>weight</th>\n",
              "      <th>acceleration</th>\n",
              "      <th>model year</th>\n",
              "      <th>Car</th>\n",
              "    </tr>\n",
              "  </thead>\n",
              "  <tbody>\n",
              "    <tr>\n",
              "      <th>0</th>\n",
              "      <td>8</td>\n",
              "      <td>307.0</td>\n",
              "      <td>130</td>\n",
              "      <td>3504</td>\n",
              "      <td>12.0</td>\n",
              "      <td>70</td>\n",
              "      <td>49</td>\n",
              "    </tr>\n",
              "    <tr>\n",
              "      <th>1</th>\n",
              "      <td>8</td>\n",
              "      <td>350.0</td>\n",
              "      <td>165</td>\n",
              "      <td>3693</td>\n",
              "      <td>11.5</td>\n",
              "      <td>70</td>\n",
              "      <td>36</td>\n",
              "    </tr>\n",
              "    <tr>\n",
              "      <th>2</th>\n",
              "      <td>8</td>\n",
              "      <td>318.0</td>\n",
              "      <td>150</td>\n",
              "      <td>3436</td>\n",
              "      <td>11.0</td>\n",
              "      <td>70</td>\n",
              "      <td>231</td>\n",
              "    </tr>\n",
              "    <tr>\n",
              "      <th>3</th>\n",
              "      <td>8</td>\n",
              "      <td>304.0</td>\n",
              "      <td>150</td>\n",
              "      <td>3433</td>\n",
              "      <td>12.0</td>\n",
              "      <td>70</td>\n",
              "      <td>14</td>\n",
              "    </tr>\n",
              "    <tr>\n",
              "      <th>4</th>\n",
              "      <td>8</td>\n",
              "      <td>302.0</td>\n",
              "      <td>140</td>\n",
              "      <td>3449</td>\n",
              "      <td>10.5</td>\n",
              "      <td>70</td>\n",
              "      <td>161</td>\n",
              "    </tr>\n",
              "    <tr>\n",
              "      <th>...</th>\n",
              "      <td>...</td>\n",
              "      <td>...</td>\n",
              "      <td>...</td>\n",
              "      <td>...</td>\n",
              "      <td>...</td>\n",
              "      <td>...</td>\n",
              "      <td>...</td>\n",
              "    </tr>\n",
              "    <tr>\n",
              "      <th>393</th>\n",
              "      <td>4</td>\n",
              "      <td>140.0</td>\n",
              "      <td>86</td>\n",
              "      <td>2790</td>\n",
              "      <td>15.6</td>\n",
              "      <td>82</td>\n",
              "      <td>153</td>\n",
              "    </tr>\n",
              "    <tr>\n",
              "      <th>394</th>\n",
              "      <td>4</td>\n",
              "      <td>97.0</td>\n",
              "      <td>52</td>\n",
              "      <td>2130</td>\n",
              "      <td>24.6</td>\n",
              "      <td>82</td>\n",
              "      <td>301</td>\n",
              "    </tr>\n",
              "    <tr>\n",
              "      <th>395</th>\n",
              "      <td>4</td>\n",
              "      <td>135.0</td>\n",
              "      <td>84</td>\n",
              "      <td>2295</td>\n",
              "      <td>11.6</td>\n",
              "      <td>82</td>\n",
              "      <td>119</td>\n",
              "    </tr>\n",
              "    <tr>\n",
              "      <th>396</th>\n",
              "      <td>4</td>\n",
              "      <td>120.0</td>\n",
              "      <td>79</td>\n",
              "      <td>2625</td>\n",
              "      <td>18.6</td>\n",
              "      <td>82</td>\n",
              "      <td>159</td>\n",
              "    </tr>\n",
              "    <tr>\n",
              "      <th>397</th>\n",
              "      <td>4</td>\n",
              "      <td>119.0</td>\n",
              "      <td>82</td>\n",
              "      <td>2720</td>\n",
              "      <td>19.4</td>\n",
              "      <td>82</td>\n",
              "      <td>69</td>\n",
              "    </tr>\n",
              "  </tbody>\n",
              "</table>\n",
              "<p>398 rows × 7 columns</p>\n",
              "</div>"
            ],
            "text/plain": [
              "     cylinders  displacement  horsepower  weight  acceleration  model year  Car\n",
              "0            8         307.0         130    3504          12.0          70   49\n",
              "1            8         350.0         165    3693          11.5          70   36\n",
              "2            8         318.0         150    3436          11.0          70  231\n",
              "3            8         304.0         150    3433          12.0          70   14\n",
              "4            8         302.0         140    3449          10.5          70  161\n",
              "..         ...           ...         ...     ...           ...         ...  ...\n",
              "393          4         140.0          86    2790          15.6          82  153\n",
              "394          4          97.0          52    2130          24.6          82  301\n",
              "395          4         135.0          84    2295          11.6          82  119\n",
              "396          4         120.0          79    2625          18.6          82  159\n",
              "397          4         119.0          82    2720          19.4          82   69\n",
              "\n",
              "[398 rows x 7 columns]"
            ]
          },
          "metadata": {
            "tags": []
          },
          "execution_count": 19
        }
      ]
    },
    {
      "cell_type": "code",
      "metadata": {
        "colab": {
          "base_uri": "https://localhost:8080/",
          "height": 110
        },
        "id": "NgMiK2itlsNS",
        "outputId": "2a75db57-9dde-4e4d-8664-29e0fce5c678"
      },
      "source": [
        "#create a full dataset including X and Y \n",
        "full_data= X.copy()\n",
        "full_data['mpg']= y\n",
        "full_data.head(2)"
      ],
      "execution_count": null,
      "outputs": [
        {
          "output_type": "execute_result",
          "data": {
            "text/html": [
              "<div>\n",
              "<style scoped>\n",
              "    .dataframe tbody tr th:only-of-type {\n",
              "        vertical-align: middle;\n",
              "    }\n",
              "\n",
              "    .dataframe tbody tr th {\n",
              "        vertical-align: top;\n",
              "    }\n",
              "\n",
              "    .dataframe thead th {\n",
              "        text-align: right;\n",
              "    }\n",
              "</style>\n",
              "<table border=\"1\" class=\"dataframe\">\n",
              "  <thead>\n",
              "    <tr style=\"text-align: right;\">\n",
              "      <th></th>\n",
              "      <th>cylinders</th>\n",
              "      <th>displacement</th>\n",
              "      <th>horsepower</th>\n",
              "      <th>weight</th>\n",
              "      <th>acceleration</th>\n",
              "      <th>model year</th>\n",
              "      <th>Car</th>\n",
              "      <th>mpg</th>\n",
              "    </tr>\n",
              "  </thead>\n",
              "  <tbody>\n",
              "    <tr>\n",
              "      <th>0</th>\n",
              "      <td>8</td>\n",
              "      <td>307.0</td>\n",
              "      <td>130</td>\n",
              "      <td>3504</td>\n",
              "      <td>12.0</td>\n",
              "      <td>70</td>\n",
              "      <td>49</td>\n",
              "      <td>18.0</td>\n",
              "    </tr>\n",
              "    <tr>\n",
              "      <th>1</th>\n",
              "      <td>8</td>\n",
              "      <td>350.0</td>\n",
              "      <td>165</td>\n",
              "      <td>3693</td>\n",
              "      <td>11.5</td>\n",
              "      <td>70</td>\n",
              "      <td>36</td>\n",
              "      <td>15.0</td>\n",
              "    </tr>\n",
              "  </tbody>\n",
              "</table>\n",
              "</div>"
            ],
            "text/plain": [
              "   cylinders  displacement  horsepower  ...  model year  Car   mpg\n",
              "0          8         307.0         130  ...          70   49  18.0\n",
              "1          8         350.0         165  ...          70   36  15.0\n",
              "\n",
              "[2 rows x 8 columns]"
            ]
          },
          "metadata": {
            "tags": []
          },
          "execution_count": 20
        }
      ]
    },
    {
      "cell_type": "code",
      "metadata": {
        "colab": {
          "base_uri": "https://localhost:8080/"
        },
        "id": "ls4XOqTYl19s",
        "outputId": "c61a3b70-8775-4e04-fff8-66897b6d24f6"
      },
      "source": [
        "#Applying step 1 of the filter method\n",
        "#Identify input features having high correlation with target variable.\n",
        "#correlation of each of the input feature with the target variable\n",
        "importances = full_data.drop('mpg', axis=1).apply(lambda x: x.corr(full_data.mpg))\n",
        "indices = np.argsort(importances)\n",
        "print(importances[indices])"
      ],
      "execution_count": null,
      "outputs": [
        {
          "output_type": "stream",
          "text": [
            "weight         -0.831741\n",
            "displacement   -0.804203\n",
            "cylinders      -0.775396\n",
            "horsepower     -0.754276\n",
            "Car             0.273936\n",
            "acceleration    0.420289\n",
            "model year      0.579267\n",
            "dtype: float64\n"
          ],
          "name": "stdout"
        }
      ]
    },
    {
      "cell_type": "code",
      "metadata": {
        "colab": {
          "base_uri": "https://localhost:8080/",
          "height": 295
        },
        "id": "nUvbSv5lmNJH",
        "outputId": "9db5a290-e41c-468a-bb5b-a25f925f47ee"
      },
      "source": [
        "names=['cylinders','displacement','horsepower','weight','acceleration','model year', 'car']\n",
        "plt.title('Miles Per Gallon')\n",
        "plt.barh(range(len(indices)), importances[indices], color='g', align='center')\n",
        "plt.yticks(range(len(indices)), [names[i] for i in indices])\n",
        "plt.xlabel('Relative Importance')\n",
        "plt.show()"
      ],
      "execution_count": null,
      "outputs": [
        {
          "output_type": "display_data",
          "data": {
            "image/png": "[encoded data removed]",
            "text/plain": [
              "<Figure size 432x288 with 1 Axes>"
            ]
          },
          "metadata": {
            "tags": [],
            "needs_background": "light"
          }
        }
      ]
    },
    {
      "cell_type": "code",
      "metadata": {
        "colab": {
          "base_uri": "https://localhost:8080/"
        },
        "id": "cstXCGYonQGw",
        "outputId": "01e59987-633e-4ebb-a59a-8fc7d3f34b5e"
      },
      "source": [
        "#We set the threshold to the absolute value of 0.4. We keep input features only if the correlation of the input feature with the target variable is greater than 0.4\n",
        "for i in range(0, len(indices)):\n",
        "    if np.abs(importances[i])>0.4:\n",
        "        print(names[i])"
      ],
      "execution_count": null,
      "outputs": [
        {
          "output_type": "stream",
          "text": [
            "cylinders\n",
            "displacement\n",
            "horsepower\n",
            "weight\n",
            "acceleration\n",
            "model year\n"
          ],
          "name": "stdout"
        }
      ]
    },
    {
      "cell_type": "code",
      "metadata": {
        "id": "UaTRPRvgnYs-"
      },
      "source": [
        "X= dataset[ ['cylinders', 'displacement', 'horsepower', 'weight', 'acceleration', 'model year']]\n",
        "#We now have reduced the input features from 7 to 6. Car name was dropped as it was not having a high correlation with mpg(miles per gallon)"
      ],
      "execution_count": null,
      "outputs": []
    },
    {
      "cell_type": "markdown",
      "metadata": {
        "id": "LPisk3iint1Y"
      },
      "source": [
        "#Applying step 2 of the filter method\n"
      ]
    },
    {
      "cell_type": "code",
      "metadata": {
        "colab": {
          "base_uri": "https://localhost:8080/",
          "height": 234
        },
        "id": "Ka2bc5eQnwgd",
        "outputId": "faa7f339-6654-49c6-d023-f1098c1d2598"
      },
      "source": [
        "#Identify input features that have a low correlation with other independent variables.\n",
        "X.corr()\n"
      ],
      "execution_count": null,
      "outputs": [
        {
          "output_type": "execute_result",
          "data": {
            "text/html": [
              "<div>\n",
              "<style scoped>\n",
              "    .dataframe tbody tr th:only-of-type {\n",
              "        vertical-align: middle;\n",
              "    }\n",
              "\n",
              "    .dataframe tbody tr th {\n",
              "        vertical-align: top;\n",
              "    }\n",
              "\n",
              "    .dataframe thead th {\n",
              "        text-align: right;\n",
              "    }\n",
              "</style>\n",
              "<table border=\"1\" class=\"dataframe\">\n",
              "  <thead>\n",
              "    <tr style=\"text-align: right;\">\n",
              "      <th></th>\n",
              "      <th>cylinders</th>\n",
              "      <th>displacement</th>\n",
              "      <th>horsepower</th>\n",
              "      <th>weight</th>\n",
              "      <th>acceleration</th>\n",
              "      <th>model year</th>\n",
              "    </tr>\n",
              "  </thead>\n",
              "  <tbody>\n",
              "    <tr>\n",
              "      <th>cylinders</th>\n",
              "      <td>1.000000</td>\n",
              "      <td>0.950721</td>\n",
              "      <td>0.821656</td>\n",
              "      <td>0.896017</td>\n",
              "      <td>-0.505419</td>\n",
              "      <td>-0.348746</td>\n",
              "    </tr>\n",
              "    <tr>\n",
              "      <th>displacement</th>\n",
              "      <td>0.950721</td>\n",
              "      <td>1.000000</td>\n",
              "      <td>0.871927</td>\n",
              "      <td>0.932824</td>\n",
              "      <td>-0.543684</td>\n",
              "      <td>-0.370164</td>\n",
              "    </tr>\n",
              "    <tr>\n",
              "      <th>horsepower</th>\n",
              "      <td>0.821656</td>\n",
              "      <td>0.871927</td>\n",
              "      <td>1.000000</td>\n",
              "      <td>0.837987</td>\n",
              "      <td>-0.673940</td>\n",
              "      <td>-0.411587</td>\n",
              "    </tr>\n",
              "    <tr>\n",
              "      <th>weight</th>\n",
              "      <td>0.896017</td>\n",
              "      <td>0.932824</td>\n",
              "      <td>0.837987</td>\n",
              "      <td>1.000000</td>\n",
              "      <td>-0.417457</td>\n",
              "      <td>-0.306564</td>\n",
              "    </tr>\n",
              "    <tr>\n",
              "      <th>acceleration</th>\n",
              "      <td>-0.505419</td>\n",
              "      <td>-0.543684</td>\n",
              "      <td>-0.673940</td>\n",
              "      <td>-0.417457</td>\n",
              "      <td>1.000000</td>\n",
              "      <td>0.288137</td>\n",
              "    </tr>\n",
              "    <tr>\n",
              "      <th>model year</th>\n",
              "      <td>-0.348746</td>\n",
              "      <td>-0.370164</td>\n",
              "      <td>-0.411587</td>\n",
              "      <td>-0.306564</td>\n",
              "      <td>0.288137</td>\n",
              "      <td>1.000000</td>\n",
              "    </tr>\n",
              "  </tbody>\n",
              "</table>\n",
              "</div>"
            ],
            "text/plain": [
              "              cylinders  displacement  ...  acceleration  model year\n",
              "cylinders      1.000000      0.950721  ...     -0.505419   -0.348746\n",
              "displacement   0.950721      1.000000  ...     -0.543684   -0.370164\n",
              "horsepower     0.821656      0.871927  ...     -0.673940   -0.411587\n",
              "weight         0.896017      0.932824  ...     -0.417457   -0.306564\n",
              "acceleration  -0.505419     -0.543684  ...      1.000000    0.288137\n",
              "model year    -0.348746     -0.370164  ...      0.288137    1.000000\n",
              "\n",
              "[6 rows x 6 columns]"
            ]
          },
          "metadata": {
            "tags": []
          },
          "execution_count": 27
        }
      ]
    },
    {
      "cell_type": "code",
      "metadata": {
        "id": "20WJZlUdxUoM"
      },
      "source": [
        "#we can oberve "
      ],
      "execution_count": null,
      "outputs": []
    },
    {
      "cell_type": "code",
      "metadata": {
        "id": "wy4BTCQAxKDx"
      },
      "source": [
        "X= dataset[ ['cylinders', 'acceleration', 'model year']]   "
      ],
      "execution_count": null,
      "outputs": []
    },
    {
      "cell_type": "markdown",
      "metadata": {
        "id": "yrbskBxSx0p3"
      },
      "source": [
        "#Applying step 3 of the filter method"
      ]
    },
    {
      "cell_type": "code",
      "metadata": {
        "id": "tUUkAkuix1x2"
      },
      "source": [
        "#Find the information gain or mutual information of the independent variable with respect to a target variable\n",
        "mi = mutual_info_regression(X, y)"
      ],
      "execution_count": null,
      "outputs": []
    },
    {
      "cell_type": "code",
      "metadata": {
        "colab": {
          "base_uri": "https://localhost:8080/"
        },
        "id": "WaBX4QjayRAE",
        "outputId": "46c35815-9c94-4911-9018-154dddd6b48d"
      },
      "source": [
        "mi"
      ],
      "execution_count": null,
      "outputs": [
        {
          "output_type": "execute_result",
          "data": {
            "text/plain": [
              "cylinders       0.619898\n",
              "acceleration    0.178432\n",
              "model year      0.350683\n",
              "dtype: float64"
            ]
          },
          "metadata": {
            "tags": []
          },
          "execution_count": 34
        }
      ]
    },
    {
      "cell_type": "code",
      "metadata": {
        "colab": {
          "base_uri": "https://localhost:8080/",
          "height": 333
        },
        "id": "5MPxO1lLx2A4",
        "outputId": "71f3a797-8768-4dfa-8e3b-50a718904717"
      },
      "source": [
        "mi = pd.Series(mi)\n",
        "mi.index = X.columns\n",
        "mi.sort_values(ascending=False)\n",
        "mi.sort_values(ascending=False).plot.bar(figsize=(10, 4))"
      ],
      "execution_count": null,
      "outputs": [
        {
          "output_type": "execute_result",
          "data": {
            "text/plain": [
              "<matplotlib.axes._subplots.AxesSubplot at 0x7f31a58b92d0>"
            ]
          },
          "metadata": {
            "tags": []
          },
          "execution_count": 33
        },
        {
          "output_type": "display_data",
          "data": {
            "image/png": "[encoded data removed]",
            "text/plain": [
              "<Figure size 720x288 with 1 Axes>"
            ]
          },
          "metadata": {
            "tags": [],
            "needs_background": "light"
          }
        }
      ]
    },
    {
      "cell_type": "code",
      "metadata": {
        "id": "sohz_mB-x2Dn"
      },
      "source": [
        "#We now have our feature importance to predict the miles per gallon. Miles per gallon can be predicted based on the number of cylinders in the car, the year car was manufactured ad the acceleration."
      ],
      "execution_count": null,
      "outputs": []
    },
    {
      "cell_type": "code",
      "metadata": {
        "id": "XdIMMOWNx2Fk"
      },
      "source": [
        ""
      ],
      "execution_count": null,
      "outputs": []
    },
    {
      "cell_type": "code",
      "metadata": {
        "id": "TetopuUix2H6"
      },
      "source": [
        ""
      ],
      "execution_count": null,
      "outputs": []
    },
    {
      "cell_type": "code",
      "metadata": {
        "id": "LlK70gRNx2Kb"
      },
      "source": [
        ""
      ],
      "execution_count": null,
      "outputs": []
    },
    {
      "cell_type": "markdown",
      "metadata": {
        "id": "KWBRPoEJ2bM7"
      },
      "source": [
        "#Wraper methods!"
      ]
    },
    {
      "cell_type": "code",
      "metadata": {
        "id": "TIRLgpv_x2M9"
      },
      "source": [
        "#Wrapper Methods in Python"
      ],
      "execution_count": null,
      "outputs": []
    },
    {
      "cell_type": "code",
      "metadata": {
        "id": "7Bt-_9pux2Pd"
      },
      "source": [
        "#There are two popular libraries in Python which can be used to perform wrapper style feature selection — Sequential Feature Selector from mlxtend and Recursive Feature Elimination from Scikit-learn."
      ],
      "execution_count": null,
      "outputs": []
    },
    {
      "cell_type": "code",
      "metadata": {
        "id": "o6zxNe-h3Ewo"
      },
      "source": [
        ""
      ],
      "execution_count": null,
      "outputs": []
    },
    {
      "cell_type": "markdown",
      "metadata": {
        "id": "R2CDgjwN3IEe"
      },
      "source": [
        "##Forward Selection — SFS() from mlxtend"
      ]
    },
    {
      "cell_type": "code",
      "metadata": {
        "colab": {
          "base_uri": "https://localhost:8080/",
          "height": 256
        },
        "id": "m4jxsPRJx2R3",
        "outputId": "51bb8258-af43-4f5a-b6a8-f774e6ccd62d"
      },
      "source": [
        "#Load needed libraries\n",
        "from sklearn.datasets import load_boston\n",
        "from mlxtend.feature_selection import SequentialFeatureSelector as SFS\n",
        "from sklearn.linear_model import LinearRegression\n",
        "import pandas as pd\n",
        "import numpy as np\n",
        "\n",
        "# load_boston() sklearn dataset to boston\n",
        "boston = load_boston()\n",
        "\n",
        "# use np.c_ to concatenate into a dataframe\n",
        "df = pd.DataFrame(boston.data, columns=boston.feature_names) \n",
        "df['PRICE'] = pd.Series(boston.target)\n",
        "\n",
        "#Split the features and target data\n",
        "#select the first 13 columns as features\n",
        "X = df.iloc[:,:13]\n",
        "#Select the last column for target \n",
        "y = df.iloc[:,-1]\n",
        "\n",
        "#Define Sequential Forward Selection (sfs)       \n",
        "sfs = SFS(LinearRegression(),\n",
        "           k_features=5,\n",
        "           forward=True,\n",
        "           floating=False,\n",
        "           scoring = 'r2',\n",
        "           cv = 0)\n",
        "#Use SFS to select the top 5 features \n",
        "sfs.fit(X, y)\n",
        "\n",
        "#Create a dataframe for the SFS results \n",
        "df_SFS_results = pd.DataFrame(sfs.subsets_).transpose()\n",
        "df_SFS_results"
      ],
      "execution_count": null,
      "outputs": [
        {
          "output_type": "stream",
          "text": [
            "/usr/local/lib/python3.7/dist-packages/sklearn/externals/joblib/__init__.py:15: FutureWarning: sklearn.externals.joblib is deprecated in 0.21 and will be removed in 0.23. Please import this functionality directly from joblib, which can be installed with: pip install joblib. If this warning is raised when loading pickled models, you may need to re-serialize those models with scikit-learn 0.21+.\n",
            "  warnings.warn(msg, category=FutureWarning)\n"
          ],
          "name": "stderr"
        },
        {
          "output_type": "execute_result",
          "data": {
            "text/html": [
              "<div>\n",
              "<style scoped>\n",
              "    .dataframe tbody tr th:only-of-type {\n",
              "        vertical-align: middle;\n",
              "    }\n",
              "\n",
              "    .dataframe tbody tr th {\n",
              "        vertical-align: top;\n",
              "    }\n",
              "\n",
              "    .dataframe thead th {\n",
              "        text-align: right;\n",
              "    }\n",
              "</style>\n",
              "<table border=\"1\" class=\"dataframe\">\n",
              "  <thead>\n",
              "    <tr style=\"text-align: right;\">\n",
              "      <th></th>\n",
              "      <th>feature_idx</th>\n",
              "      <th>cv_scores</th>\n",
              "      <th>avg_score</th>\n",
              "      <th>feature_names</th>\n",
              "    </tr>\n",
              "  </thead>\n",
              "  <tbody>\n",
              "    <tr>\n",
              "      <th>1</th>\n",
              "      <td>(12,)</td>\n",
              "      <td>[0.5441462975864797]</td>\n",
              "      <td>0.544146</td>\n",
              "      <td>(LSTAT,)</td>\n",
              "    </tr>\n",
              "    <tr>\n",
              "      <th>2</th>\n",
              "      <td>(5, 12)</td>\n",
              "      <td>[0.6385616062603403]</td>\n",
              "      <td>0.638562</td>\n",
              "      <td>(RM, LSTAT)</td>\n",
              "    </tr>\n",
              "    <tr>\n",
              "      <th>3</th>\n",
              "      <td>(5, 10, 12)</td>\n",
              "      <td>[0.6786241601613112]</td>\n",
              "      <td>0.678624</td>\n",
              "      <td>(RM, PTRATIO, LSTAT)</td>\n",
              "    </tr>\n",
              "    <tr>\n",
              "      <th>4</th>\n",
              "      <td>(5, 7, 10, 12)</td>\n",
              "      <td>[0.6903077016842538]</td>\n",
              "      <td>0.690308</td>\n",
              "      <td>(RM, DIS, PTRATIO, LSTAT)</td>\n",
              "    </tr>\n",
              "    <tr>\n",
              "      <th>5</th>\n",
              "      <td>(4, 5, 7, 10, 12)</td>\n",
              "      <td>[0.7080892893529662]</td>\n",
              "      <td>0.708089</td>\n",
              "      <td>(NOX, RM, DIS, PTRATIO, LSTAT)</td>\n",
              "    </tr>\n",
              "  </tbody>\n",
              "</table>\n",
              "</div>"
            ],
            "text/plain": [
              "         feature_idx  ...                   feature_names\n",
              "1              (12,)  ...                        (LSTAT,)\n",
              "2            (5, 12)  ...                     (RM, LSTAT)\n",
              "3        (5, 10, 12)  ...            (RM, PTRATIO, LSTAT)\n",
              "4     (5, 7, 10, 12)  ...       (RM, DIS, PTRATIO, LSTAT)\n",
              "5  (4, 5, 7, 10, 12)  ...  (NOX, RM, DIS, PTRATIO, LSTAT)\n",
              "\n",
              "[5 rows x 4 columns]"
            ]
          },
          "metadata": {
            "tags": []
          },
          "execution_count": 35
        }
      ]
    },
    {
      "cell_type": "code",
      "metadata": {
        "id": "YBI0jAm4x2Ur"
      },
      "source": [
        ""
      ],
      "execution_count": null,
      "outputs": []
    },
    {
      "cell_type": "markdown",
      "metadata": {
        "id": "ZjtBqkPu3JyU"
      },
      "source": [
        "#2. Backward elimination — RFE() from Sklearn"
      ]
    },
    {
      "cell_type": "code",
      "metadata": {
        "colab": {
          "base_uri": "https://localhost:8080/",
          "height": 480
        },
        "id": "fTjCDiG_x2XZ",
        "outputId": "2c1c8b73-1112-47a9-daf5-69448717cd41"
      },
      "source": [
        "#Load needed libraries\n",
        "from sklearn.datasets import load_boston\n",
        "from sklearn.feature_selection import RFE\n",
        "from sklearn.linear_model import LinearRegression\n",
        "import pandas as pd\n",
        "import numpy as np\n",
        "\n",
        "# load_boston() sklearn dataset to boston\n",
        "boston = load_boston()\n",
        "\n",
        "#Split the features and target data\n",
        "#select the first 13 columns as features\n",
        "X = boston.data\n",
        "#Select the last column for target \n",
        "Y = boston.target\n",
        "\n",
        "#Build a logistic regression model \n",
        "#model = LinearRegression()\n",
        "#Define RFE \n",
        "rfe = RFE(LinearRegression(), 5)\n",
        "#Use RFE to select the top 5 features \n",
        "fit = rfe.fit(X, Y)\n",
        "\n",
        "#Create a dataframe for the results \n",
        "df_RFE_results = []\n",
        "for i in range(X.shape[1]):\n",
        "    df_RFE_results.append(\n",
        "        {      \n",
        "            'Feature_names': boston.feature_names[i],\n",
        "            'Selected':  rfe.support_[i],\n",
        "            'RFE_ranking':  rfe.ranking_[i],\n",
        "        }\n",
        "    )\n",
        "\n",
        "df_RFE_results = pd.DataFrame(df_RFE_results)\n",
        "df_RFE_results.index.name='Columns'\n",
        "df_RFE_results"
      ],
      "execution_count": null,
      "outputs": [
        {
          "output_type": "execute_result",
          "data": {
            "text/html": [
              "<div>\n",
              "<style scoped>\n",
              "    .dataframe tbody tr th:only-of-type {\n",
              "        vertical-align: middle;\n",
              "    }\n",
              "\n",
              "    .dataframe tbody tr th {\n",
              "        vertical-align: top;\n",
              "    }\n",
              "\n",
              "    .dataframe thead th {\n",
              "        text-align: right;\n",
              "    }\n",
              "</style>\n",
              "<table border=\"1\" class=\"dataframe\">\n",
              "  <thead>\n",
              "    <tr style=\"text-align: right;\">\n",
              "      <th></th>\n",
              "      <th>Feature_names</th>\n",
              "      <th>Selected</th>\n",
              "      <th>RFE_ranking</th>\n",
              "    </tr>\n",
              "    <tr>\n",
              "      <th>Columns</th>\n",
              "      <th></th>\n",
              "      <th></th>\n",
              "      <th></th>\n",
              "    </tr>\n",
              "  </thead>\n",
              "  <tbody>\n",
              "    <tr>\n",
              "      <th>0</th>\n",
              "      <td>CRIM</td>\n",
              "      <td>False</td>\n",
              "      <td>4</td>\n",
              "    </tr>\n",
              "    <tr>\n",
              "      <th>1</th>\n",
              "      <td>ZN</td>\n",
              "      <td>False</td>\n",
              "      <td>6</td>\n",
              "    </tr>\n",
              "    <tr>\n",
              "      <th>2</th>\n",
              "      <td>INDUS</td>\n",
              "      <td>False</td>\n",
              "      <td>5</td>\n",
              "    </tr>\n",
              "    <tr>\n",
              "      <th>3</th>\n",
              "      <td>CHAS</td>\n",
              "      <td>True</td>\n",
              "      <td>1</td>\n",
              "    </tr>\n",
              "    <tr>\n",
              "      <th>4</th>\n",
              "      <td>NOX</td>\n",
              "      <td>True</td>\n",
              "      <td>1</td>\n",
              "    </tr>\n",
              "    <tr>\n",
              "      <th>5</th>\n",
              "      <td>RM</td>\n",
              "      <td>True</td>\n",
              "      <td>1</td>\n",
              "    </tr>\n",
              "    <tr>\n",
              "      <th>6</th>\n",
              "      <td>AGE</td>\n",
              "      <td>False</td>\n",
              "      <td>9</td>\n",
              "    </tr>\n",
              "    <tr>\n",
              "      <th>7</th>\n",
              "      <td>DIS</td>\n",
              "      <td>True</td>\n",
              "      <td>1</td>\n",
              "    </tr>\n",
              "    <tr>\n",
              "      <th>8</th>\n",
              "      <td>RAD</td>\n",
              "      <td>False</td>\n",
              "      <td>3</td>\n",
              "    </tr>\n",
              "    <tr>\n",
              "      <th>9</th>\n",
              "      <td>TAX</td>\n",
              "      <td>False</td>\n",
              "      <td>7</td>\n",
              "    </tr>\n",
              "    <tr>\n",
              "      <th>10</th>\n",
              "      <td>PTRATIO</td>\n",
              "      <td>True</td>\n",
              "      <td>1</td>\n",
              "    </tr>\n",
              "    <tr>\n",
              "      <th>11</th>\n",
              "      <td>B</td>\n",
              "      <td>False</td>\n",
              "      <td>8</td>\n",
              "    </tr>\n",
              "    <tr>\n",
              "      <th>12</th>\n",
              "      <td>LSTAT</td>\n",
              "      <td>False</td>\n",
              "      <td>2</td>\n",
              "    </tr>\n",
              "  </tbody>\n",
              "</table>\n",
              "</div>"
            ],
            "text/plain": [
              "        Feature_names  Selected  RFE_ranking\n",
              "Columns                                     \n",
              "0                CRIM     False            4\n",
              "1                  ZN     False            6\n",
              "2               INDUS     False            5\n",
              "3                CHAS      True            1\n",
              "4                 NOX      True            1\n",
              "5                  RM      True            1\n",
              "6                 AGE     False            9\n",
              "7                 DIS      True            1\n",
              "8                 RAD     False            3\n",
              "9                 TAX     False            7\n",
              "10            PTRATIO      True            1\n",
              "11                  B     False            8\n",
              "12              LSTAT     False            2"
            ]
          },
          "metadata": {
            "tags": []
          },
          "execution_count": 36
        }
      ]
    },
    {
      "cell_type": "code",
      "metadata": {
        "id": "t0OwDaOZ3hb_"
      },
      "source": [
        ""
      ],
      "execution_count": null,
      "outputs": []
    }
  ]
}